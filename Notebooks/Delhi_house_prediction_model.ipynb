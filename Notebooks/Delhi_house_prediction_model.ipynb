{
 "cells": [
  {
   "cell_type": "markdown",
   "id": "832f21a2",
   "metadata": {},
   "source": [
    "# Delhi House prediction model training"
   ]
  },
  {
   "cell_type": "code",
   "execution_count": 24,
   "id": "d1c4c110",
   "metadata": {},
   "outputs": [],
   "source": [
    "# importing necessary modules\n",
    "import numpy as np\n",
    "import pandas as pd\n",
    "from sklearn.linear_model import LinearRegression\n",
    "from sklearn.model_selection import train_test_split\n",
    "from sklearn.preprocessing import OneHotEncoder,StandardScaler\n",
    "from sklearn.compose import ColumnTransformer\n",
    "from sklearn.impute import SimpleImputer\n",
    "from sklearn.pipeline import Pipeline\n",
    "from catboost import CatBoostRegressor\n",
    "from sklearn.ensemble import(\n",
    "    AdaBoostRegressor,\n",
    "    GradientBoostingRegressor,\n",
    "    RandomForestRegressor\n",
    ")\n",
    "from sklearn.metrics import r2_score,mean_squared_error,mean_absolute_error\n",
    "from sklearn.neighbors import KNeighborsRegressor\n",
    "from sklearn.tree import DecisionTreeRegressor\n",
    "from xgboost import XGBRegressor\n",
    "from sklearn.model_selection import GridSearchCV"
   ]
  },
  {
   "cell_type": "code",
   "execution_count": 4,
   "id": "186ebc42",
   "metadata": {},
   "outputs": [],
   "source": [
    "raw_data=pd.read_csv('Delhi_housing_data.csv')"
   ]
  },
  {
   "cell_type": "code",
   "execution_count": 7,
   "id": "64656d44",
   "metadata": {},
   "outputs": [
    {
     "data": {
      "text/html": [
       "<div>\n",
       "<style scoped>\n",
       "    .dataframe tbody tr th:only-of-type {\n",
       "        vertical-align: middle;\n",
       "    }\n",
       "\n",
       "    .dataframe tbody tr th {\n",
       "        vertical-align: top;\n",
       "    }\n",
       "\n",
       "    .dataframe thead th {\n",
       "        text-align: right;\n",
       "    }\n",
       "</style>\n",
       "<table border=\"1\" class=\"dataframe\">\n",
       "  <thead>\n",
       "    <tr style=\"text-align: right;\">\n",
       "      <th></th>\n",
       "      <th>price</th>\n",
       "      <th>area</th>\n",
       "      <th>latitude</th>\n",
       "      <th>longitude</th>\n",
       "      <th>Bedrooms</th>\n",
       "      <th>Bathrooms</th>\n",
       "      <th>Balcony</th>\n",
       "      <th>neworold</th>\n",
       "      <th>parking</th>\n",
       "      <th>Furnished_status</th>\n",
       "      <th>Lift</th>\n",
       "      <th>type_of_building</th>\n",
       "    </tr>\n",
       "  </thead>\n",
       "  <tbody>\n",
       "    <tr>\n",
       "      <th>0</th>\n",
       "      <td>5600000.0</td>\n",
       "      <td>1350.0</td>\n",
       "      <td>28.608850</td>\n",
       "      <td>77.460560</td>\n",
       "      <td>3.0</td>\n",
       "      <td>3.0</td>\n",
       "      <td>NaN</td>\n",
       "      <td>New Property</td>\n",
       "      <td>NaN</td>\n",
       "      <td>NaN</td>\n",
       "      <td>2.0</td>\n",
       "      <td>Flat</td>\n",
       "    </tr>\n",
       "    <tr>\n",
       "      <th>1</th>\n",
       "      <td>8800000.0</td>\n",
       "      <td>1490.0</td>\n",
       "      <td>28.374236</td>\n",
       "      <td>76.952416</td>\n",
       "      <td>3.0</td>\n",
       "      <td>3.0</td>\n",
       "      <td>NaN</td>\n",
       "      <td>New Property</td>\n",
       "      <td>NaN</td>\n",
       "      <td>Semi-Furnished</td>\n",
       "      <td>2.0</td>\n",
       "      <td>Flat</td>\n",
       "    </tr>\n",
       "    <tr>\n",
       "      <th>2</th>\n",
       "      <td>16500000.0</td>\n",
       "      <td>2385.0</td>\n",
       "      <td>28.645769</td>\n",
       "      <td>77.385110</td>\n",
       "      <td>4.0</td>\n",
       "      <td>5.0</td>\n",
       "      <td>NaN</td>\n",
       "      <td>New Property</td>\n",
       "      <td>1.0</td>\n",
       "      <td>Unfurnished</td>\n",
       "      <td>NaN</td>\n",
       "      <td>Flat</td>\n",
       "    </tr>\n",
       "    <tr>\n",
       "      <th>3</th>\n",
       "      <td>3810000.0</td>\n",
       "      <td>1050.0</td>\n",
       "      <td>28.566914</td>\n",
       "      <td>77.436434</td>\n",
       "      <td>2.0</td>\n",
       "      <td>2.0</td>\n",
       "      <td>3.0</td>\n",
       "      <td>New Property</td>\n",
       "      <td>1.0</td>\n",
       "      <td>Unfurnished</td>\n",
       "      <td>2.0</td>\n",
       "      <td>Flat</td>\n",
       "    </tr>\n",
       "    <tr>\n",
       "      <th>4</th>\n",
       "      <td>6200000.0</td>\n",
       "      <td>1350.0</td>\n",
       "      <td>28.520732</td>\n",
       "      <td>77.356491</td>\n",
       "      <td>2.0</td>\n",
       "      <td>2.0</td>\n",
       "      <td>3.0</td>\n",
       "      <td>Resale</td>\n",
       "      <td>1.0</td>\n",
       "      <td>NaN</td>\n",
       "      <td>3.0</td>\n",
       "      <td>Flat</td>\n",
       "    </tr>\n",
       "  </tbody>\n",
       "</table>\n",
       "</div>"
      ],
      "text/plain": [
       "        price    area   latitude  longitude  Bedrooms  Bathrooms  Balcony  \\\n",
       "0   5600000.0  1350.0  28.608850  77.460560       3.0        3.0      NaN   \n",
       "1   8800000.0  1490.0  28.374236  76.952416       3.0        3.0      NaN   \n",
       "2  16500000.0  2385.0  28.645769  77.385110       4.0        5.0      NaN   \n",
       "3   3810000.0  1050.0  28.566914  77.436434       2.0        2.0      3.0   \n",
       "4   6200000.0  1350.0  28.520732  77.356491       2.0        2.0      3.0   \n",
       "\n",
       "       neworold  parking Furnished_status  Lift type_of_building  \n",
       "0  New Property      NaN              NaN   2.0             Flat  \n",
       "1  New Property      NaN   Semi-Furnished   2.0             Flat  \n",
       "2  New Property      1.0      Unfurnished   NaN             Flat  \n",
       "3  New Property      1.0      Unfurnished   2.0             Flat  \n",
       "4        Resale      1.0              NaN   3.0             Flat  "
      ]
     },
     "execution_count": 7,
     "metadata": {},
     "output_type": "execute_result"
    }
   ],
   "source": [
    "data=raw_data.drop('Address',axis=1)\n",
    "data.drop('Status',inplace=True,axis=1)\n",
    "data.drop('Landmarks',inplace=True,axis=1)\n",
    "data.drop('desc',inplace=True,axis=1)\n",
    "data.drop('Price_sqft',inplace=True,axis=1)\n",
    "data.drop('Unnamed: 0',inplace=True,axis=1)\n",
    "data.head()"
   ]
  },
  {
   "cell_type": "code",
   "execution_count": 8,
   "id": "4a550eb9",
   "metadata": {},
   "outputs": [
    {
     "data": {
      "text/plain": [
       "(6190, 12)"
      ]
     },
     "execution_count": 8,
     "metadata": {},
     "output_type": "execute_result"
    }
   ],
   "source": [
    "train_data,test_data=train_test_split(data,test_size=0.2,random_state=42)\n",
    "train_data.shape"
   ]
  },
  {
   "cell_type": "code",
   "execution_count": 9,
   "id": "13798834",
   "metadata": {},
   "outputs": [],
   "source": [
    "numerical_columns=['area','longitude','latitude','Bedrooms','Bathrooms','Balcony','parking','Lift']\n",
    "categorical_columns=[\n",
    "    'neworold',\n",
    "    'Furnished_status',\n",
    "    'type_of_building'\n",
    "]"
   ]
  },
  {
   "cell_type": "code",
   "execution_count": 15,
   "id": "63fda300",
   "metadata": {},
   "outputs": [],
   "source": [
    "num_pipeline=Pipeline(steps=[\n",
    "    ('imputer',SimpleImputer(missing_values=np.nan,strategy='constant',fill_value=0)),\n",
    "    ('scaler',StandardScaler())\n",
    "    \n",
    "])\n",
    "\n",
    "cat_pipeline=Pipeline(steps=[\n",
    "    ('imputer',SimpleImputer(missing_values=np.nan,strategy='most_frequent')),\n",
    "    ('one_hot_encoder',OneHotEncoder(handle_unknown='ignore')),\n",
    "    ('scaler',StandardScaler(with_mean=False))\n",
    "])"
   ]
  },
  {
   "cell_type": "code",
   "execution_count": 16,
   "id": "6c16be4b",
   "metadata": {},
   "outputs": [],
   "source": [
    "preprocessor= ColumnTransformer(\n",
    "[\n",
    "    ('num_pipeline',num_pipeline,numerical_columns),\n",
    "    ('cat_pipeline',cat_pipeline,categorical_columns)\n",
    "])"
   ]
  },
  {
   "cell_type": "code",
   "execution_count": 17,
   "id": "bbf8f1c2",
   "metadata": {},
   "outputs": [],
   "source": [
    "input_feature_train_data=train_data.drop('price',axis=1)\n",
    "target_feature_train_data=train_data['price']\n",
    "\n",
    "input_feature_test_data=test_data.drop('price',axis=1)\n",
    "target_feature_test_data=test_data['price']\n"
   ]
  },
  {
   "cell_type": "code",
   "execution_count": 19,
   "id": "922e7ac0",
   "metadata": {},
   "outputs": [],
   "source": [
    "input_train_feature_arr=preprocessor.fit_transform(input_feature_train_data)\n",
    "input_test_feature_arr=preprocessor.transform(input_feature_test_data)\n",
    "\n",
    "train_arr=np.c_[input_train_feature_arr,np.array(target_feature_train_data)]\n",
    "test_arr=np.c_[input_test_feature_arr,np.array(target_feature_test_data)]"
   ]
  },
  {
   "cell_type": "code",
   "execution_count": 21,
   "id": "27074444",
   "metadata": {},
   "outputs": [],
   "source": [
    "def evaluate_models(X_train, y_train,X_test,y_test,models,param):\n",
    "        report = {}\n",
    "\n",
    "        for i in range(len(list(models))):\n",
    "            model = list(models.values())[i]\n",
    "            para=param[list(models.keys())[i]]\n",
    "\n",
    "            gs = GridSearchCV(model,para,cv=3)\n",
    "            gs.fit(X_train,y_train)\n",
    "\n",
    "            model.set_params(**gs.best_params_)\n",
    "            model.fit(X_train,y_train)\n",
    "\n",
    "            #model.fit(X_train, y_train)  # Train model\n",
    "\n",
    "            y_train_pred = model.predict(X_train)\n",
    "\n",
    "            y_test_pred = model.predict(X_test)\n",
    "\n",
    "            train_model_score = r2_score(y_train, y_train_pred)\n",
    "\n",
    "            test_model_score = r2_score(y_test, y_test_pred)\n",
    "\n",
    "            report[list(models.keys())[i]] = test_model_score\n",
    "\n",
    "        return report"
   ]
  },
  {
   "cell_type": "code",
   "execution_count": 25,
   "id": "8a148398",
   "metadata": {},
   "outputs": [
    {
     "name": "stdout",
     "output_type": "stream",
     "text": [
      "This is the best model: \n",
      "Random Forest\n"
     ]
    }
   ],
   "source": [
    "x_train,y_train,x_test,y_test=(\n",
    "                train_arr[:,:-1],\n",
    "                train_arr[:,-1],\n",
    "                test_arr[:,:-1],\n",
    "                test_arr[:,-1]\n",
    "            )\n",
    "            \n",
    "models={\n",
    "                \"Random Forest\":RandomForestRegressor(),\n",
    "                \"Decision Tree\":DecisionTreeRegressor(),\n",
    "                \"Gradient Boosting\":GradientBoostingRegressor(),\n",
    "                \"Linear Regression\":LinearRegression(),\n",
    "                \"XGBRegressor\":XGBRegressor(),\n",
    "                \"CatBoosting Regressor\":CatBoostRegressor(verbose=False),\n",
    "                \"AdaBoost Regressor\":AdaBoostRegressor(),\n",
    "}\n",
    "            \n",
    "params={\n",
    "                \"Decision Tree\": {\n",
    "                    'criterion':['squared_error', 'friedman_mse', 'absolute_error', 'poisson'],\n",
    "                    # 'splitter':['best','random'],\n",
    "                    # 'max_features':['sqrt','log2'],\n",
    "                },\n",
    "                \"Random Forest\":{\n",
    "                    # 'criterion':['squared_error', 'friedman_mse', 'absolute_error', 'poisson'],\n",
    "                 \n",
    "                    # 'max_features':['sqrt','log2',None],\n",
    "                    'n_estimators': [8,16,32,64,128,256]\n",
    "                },\n",
    "                \"Gradient Boosting\":{\n",
    "                    # 'loss':['squared_error', 'huber', 'absolute_error', 'quantile'],\n",
    "                    'learning_rate':[.1,.01,.05,.001],\n",
    "                    'subsample':[0.6,0.7,0.75,0.8,0.85,0.9],\n",
    "                    # 'criterion':['squared_error', 'friedman_mse'],\n",
    "                    # 'max_features':['auto','sqrt','log2'],\n",
    "                    'n_estimators': [8,16,32,64,128,256]\n",
    "                },\n",
    "                \"Linear Regression\":{},\n",
    "                \"XGBRegressor\":{\n",
    "                    'learning_rate':[.1,.01,.05,.001],\n",
    "                    'n_estimators': [8,16,32,64,128,256]\n",
    "                },\n",
    "                \"CatBoosting Regressor\":{\n",
    "                    'depth': [6,8,10],\n",
    "                    'learning_rate': [0.01, 0.05, 0.1],\n",
    "                    'iterations': [30, 50, 100]\n",
    "                },\n",
    "                \"AdaBoost Regressor\":{\n",
    "                    'learning_rate':[.1,.01,0.5,.001],\n",
    "                    # 'loss':['linear','square','exponential'],\n",
    "                    'n_estimators': [8,16,32,64,128,256]\n",
    "                }\n",
    "                \n",
    "}\n",
    "model_report:dict=evaluate_models(x_train,y_train,x_test,y_test,models,params)\n",
    "best_model_score=max(sorted(model_report.values()))\n",
    "best_model_name=list(model_report.keys())[\n",
    "                list(model_report.values()).index(best_model_score)\n",
    "                ]\n",
    "best_model=models[best_model_name]\n",
    "            \n",
    "print(\"This is the best model: \")\n",
    "print(best_model_name)"
   ]
  },
  {
   "cell_type": "code",
   "execution_count": 26,
   "id": "e2f1d3dc",
   "metadata": {},
   "outputs": [
    {
     "name": "stdout",
     "output_type": "stream",
     "text": [
      "0.9365657721370535\n"
     ]
    }
   ],
   "source": [
    "print(best_model_score)"
   ]
  },
  {
   "cell_type": "code",
   "execution_count": 27,
   "id": "f093bd0d",
   "metadata": {},
   "outputs": [
    {
     "name": "stdout",
     "output_type": "stream",
     "text": [
      "0.9365657721370535\n"
     ]
    }
   ],
   "source": [
    "predicted=best_model.predict(x_test)\n",
    "r2_square=r2_score(y_test,predicted)\n",
    "print(r2_square)"
   ]
  },
  {
   "cell_type": "code",
   "execution_count": null,
   "id": "5723b953",
   "metadata": {},
   "outputs": [],
   "source": []
  }
 ],
 "metadata": {
  "kernelspec": {
   "display_name": "Python 3 (ipykernel)",
   "language": "python",
   "name": "python3"
  },
  "language_info": {
   "codemirror_mode": {
    "name": "ipython",
    "version": 3
   },
   "file_extension": ".py",
   "mimetype": "text/x-python",
   "name": "python",
   "nbconvert_exporter": "python",
   "pygments_lexer": "ipython3",
   "version": "3.9.13"
  }
 },
 "nbformat": 4,
 "nbformat_minor": 5
}
